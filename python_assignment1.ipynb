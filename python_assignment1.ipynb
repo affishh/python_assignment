{
  "nbformat": 4,
  "nbformat_minor": 0,
  "metadata": {
    "colab": {
      "provenance": [],
      "authorship_tag": "ABX9TyOybx0GVCKWZ2w5cWHCPfXb",
      "include_colab_link": true
    },
    "kernelspec": {
      "name": "python3",
      "display_name": "Python 3"
    },
    "language_info": {
      "name": "python"
    }
  },
  "cells": [
    {
      "cell_type": "markdown",
      "metadata": {
        "id": "view-in-github",
        "colab_type": "text"
      },
      "source": [
        "<a href=\"https://colab.research.google.com/github/affishh/python_assignment/blob/main/python_assignment1.ipynb\" target=\"_parent\"><img src=\"https://colab.research.google.com/assets/colab-badge.svg\" alt=\"Open In Colab\"/></a>"
      ]
    },
    {
      "cell_type": "code",
      "execution_count": 9,
      "metadata": {
        "colab": {
          "base_uri": "https://localhost:8080/"
        },
        "id": "qxY7yMGzGFjt",
        "outputId": "2c9df843-cfed-4265-b05b-bdb5fe5b907e"
      },
      "outputs": [
        {
          "output_type": "stream",
          "name": "stdout",
          "text": [
            "the last name  is banu\n"
          ]
        }
      ],
      "source": [
        "#1). Control flow with ''if'', \"elif\" and \"else\"\n",
        "x = \"afrin banu\"\n",
        "if x[6:] == \"banu\":\n",
        "  print(\"the last name  is banu\")\n",
        "elif x == \" \":\n",
        "  print(\"the name is empty string\")\n",
        "else:\n",
        "  print(\"the steing passed is not afrin\")"
      ]
    },
    {
      "cell_type": "code",
      "source": [
        "#2. Defining a function with  \"def\" and returning with \"return\"\n",
        "def addition(a, b):\n",
        "    return a + b\n",
        "\n",
        "a= addition(10,30)\n",
        "print(a)"
      ],
      "metadata": {
        "colab": {
          "base_uri": "https://localhost:8080/"
        },
        "id": "AeWyyo0pG4Bu",
        "outputId": "52660cdf-af7e-4ce8-c263-5728d46d9ec1"
      },
      "execution_count": 10,
      "outputs": [
        {
          "output_type": "stream",
          "name": "stdout",
          "text": [
            "40\n"
          ]
        }
      ]
    },
    {
      "cell_type": "code",
      "source": [
        "#3). Using loops \"for\", \"in\", \"range\"\n",
        "for i in range(10):\n",
        "  print(i)"
      ],
      "metadata": {
        "colab": {
          "base_uri": "https://localhost:8080/"
        },
        "id": "OvirsvF9HKvC",
        "outputId": "6b779a62-9509-412a-a57e-e1e20302011d"
      },
      "execution_count": 11,
      "outputs": [
        {
          "output_type": "stream",
          "name": "stdout",
          "text": [
            "0\n",
            "1\n",
            "2\n",
            "3\n",
            "4\n",
            "5\n",
            "6\n",
            "7\n",
            "8\n",
            "9\n"
          ]
        }
      ]
    },
    {
      "cell_type": "code",
      "source": [
        "#4). Defining a Class with \"class\" keyword\n",
        "class Bank:\n",
        "\tdef __init__(self, balance):\n",
        "        \tself.balance = balance\n",
        "\n",
        "\tdef  get_balance(self):\n",
        "\t\tprint(\"The balance remaining is:\", self.balance)\n",
        "\n",
        "bank = Bank(1000)\n",
        "bank.get_balance()\n"
      ],
      "metadata": {
        "colab": {
          "base_uri": "https://localhost:8080/"
        },
        "id": "Rr9zJyLgHP7y",
        "outputId": "8e31e63f-c4d4-4682-9b4d-97fcb12ea68b"
      },
      "execution_count": 12,
      "outputs": [
        {
          "output_type": "stream",
          "name": "stdout",
          "text": [
            "The balance remaining is: 1000\n"
          ]
        }
      ]
    },
    {
      "cell_type": "code",
      "source": [
        "#5. Exception Handling with \"try\", \"except\"\n",
        "try:\n",
        "  result = 10/0\n",
        "except ZeroDivisionError:\n",
        "  print(\"Error: Division by zero is not allowed...\")"
      ],
      "metadata": {
        "colab": {
          "base_uri": "https://localhost:8080/"
        },
        "id": "e2ZlJTHUHpUh",
        "outputId": "cfe448e9-f5fd-463b-8fe9-ae033b03acd7"
      },
      "execution_count": 13,
      "outputs": [
        {
          "output_type": "stream",
          "name": "stdout",
          "text": [
            "Error: Division by zero is not allowed...\n"
          ]
        }
      ]
    },
    {
      "cell_type": "code",
      "source": [
        "import os\n",
        "import math\n",
        "print(os.getcwd)\n",
        "area = math.pi * 6 **2\n",
        "print(\"The area is\",area)"
      ],
      "metadata": {
        "colab": {
          "base_uri": "https://localhost:8080/"
        },
        "id": "7dSwqejAH6BX",
        "outputId": "2d0f84e3-944e-458f-f440-21ce22c42713"
      },
      "execution_count": 16,
      "outputs": [
        {
          "output_type": "stream",
          "name": "stdout",
          "text": [
            "<built-in function getcwd>\n",
            "The area is 113.09733552923255\n"
          ]
        }
      ]
    },
    {
      "cell_type": "code",
      "source": [],
      "metadata": {
        "id": "ss1FYZAyKRis"
      },
      "execution_count": null,
      "outputs": []
    },
    {
      "cell_type": "code",
      "source": [],
      "metadata": {
        "id": "goUbZ3-IKRfT"
      },
      "execution_count": null,
      "outputs": []
    },
    {
      "cell_type": "code",
      "source": [
        "#mutable objects\n",
        "my_list = [1,3,3]\n",
        "my_list[1] = 2\n",
        "print(my_list)"
      ],
      "metadata": {
        "colab": {
          "base_uri": "https://localhost:8080/"
        },
        "id": "8ER9ZzjQKRAA",
        "outputId": "e9124f72-20b1-4985-9317-95de9b0f80ac"
      },
      "execution_count": 18,
      "outputs": [
        {
          "output_type": "stream",
          "name": "stdout",
          "text": [
            "[1, 2, 3]\n"
          ]
        }
      ]
    },
    {
      "cell_type": "code",
      "source": [
        "dicts = {\"name\": \"john\", \"age\":30, \"city\":\"new york\"}\n",
        "dicts[\"age\"] = 25\n",
        "print(dicts)"
      ],
      "metadata": {
        "colab": {
          "base_uri": "https://localhost:8080/"
        },
        "id": "uKjr3242LTU7",
        "outputId": "127f23f9-070c-49c8-dea1-e581d4577aeb"
      },
      "execution_count": 19,
      "outputs": [
        {
          "output_type": "stream",
          "name": "stdout",
          "text": [
            "{'name': 'john', 'age': 25, 'city': 'new york'}\n"
          ]
        }
      ]
    },
    {
      "cell_type": "code",
      "source": [
        "sets = {1,2,3,4,5}\n",
        "sets.add(6)\n",
        "print(sets)"
      ],
      "metadata": {
        "colab": {
          "base_uri": "https://localhost:8080/"
        },
        "id": "x-ZFSWO9Lo7d",
        "outputId": "8937e694-451d-4ddf-8d1b-253cbaa2249b"
      },
      "execution_count": 20,
      "outputs": [
        {
          "output_type": "stream",
          "name": "stdout",
          "text": [
            "{1, 2, 3, 4, 5, 6}\n"
          ]
        }
      ]
    },
    {
      "cell_type": "code",
      "source": [],
      "metadata": {
        "id": "AgiLwJqqLuY5"
      },
      "execution_count": null,
      "outputs": []
    },
    {
      "cell_type": "markdown",
      "source": [
        "**Immutable Objects**"
      ],
      "metadata": {
        "id": "YbCPVCVSLz9l"
      }
    },
    {
      "cell_type": "code",
      "source": [
        "# Integer example\n",
        "my_int = 5\n",
        "# Trying to modify an integer is not possible, it's a new assignment\n",
        "my_int = my_int + 1\n",
        "print(my_int)"
      ],
      "metadata": {
        "colab": {
          "base_uri": "https://localhost:8080/"
        },
        "id": "KQgpoFJRL3Oe",
        "outputId": "992aca4b-ccaa-4a31-ae30-bf8dc7dbc0a5"
      },
      "execution_count": 21,
      "outputs": [
        {
          "output_type": "stream",
          "name": "stdout",
          "text": [
            "6\n"
          ]
        }
      ]
    },
    {
      "cell_type": "code",
      "source": [
        "# String example\n",
        "my_str = \"Hello\"\n",
        "# Trying to modify a string is not possible, it's a new assignment\n",
        "my_str = my_str + \" World\"\n",
        "print(my_str)"
      ],
      "metadata": {
        "colab": {
          "base_uri": "https://localhost:8080/"
        },
        "id": "kum7h03FL97h",
        "outputId": "d5071812-f771-4217-f628-b97ae05db5f3"
      },
      "execution_count": 22,
      "outputs": [
        {
          "output_type": "stream",
          "name": "stdout",
          "text": [
            "Hello World\n"
          ]
        }
      ]
    },
    {
      "cell_type": "code",
      "source": [
        "my_tuple = (1, 2, 3)\n",
        "my_tuple[1]= 4"
      ],
      "metadata": {
        "colab": {
          "base_uri": "https://localhost:8080/",
          "height": 158
        },
        "id": "Fu0Xnh-iMHXJ",
        "outputId": "0fc692d6-4660-468b-dce0-835e7f9603c8"
      },
      "execution_count": 24,
      "outputs": [
        {
          "output_type": "error",
          "ename": "TypeError",
          "evalue": "'tuple' object does not support item assignment",
          "traceback": [
            "\u001b[0;31m---------------------------------------------------------------------------\u001b[0m",
            "\u001b[0;31mTypeError\u001b[0m                                 Traceback (most recent call last)",
            "\u001b[0;32m/tmp/ipython-input-24-1090857588.py\u001b[0m in \u001b[0;36m<cell line: 0>\u001b[0;34m()\u001b[0m\n\u001b[1;32m      1\u001b[0m \u001b[0mmy_tuple\u001b[0m \u001b[0;34m=\u001b[0m \u001b[0;34m(\u001b[0m\u001b[0;36m1\u001b[0m\u001b[0;34m,\u001b[0m \u001b[0;36m2\u001b[0m\u001b[0;34m,\u001b[0m \u001b[0;36m3\u001b[0m\u001b[0;34m)\u001b[0m\u001b[0;34m\u001b[0m\u001b[0;34m\u001b[0m\u001b[0m\n\u001b[0;32m----> 2\u001b[0;31m \u001b[0mmy_tuple\u001b[0m\u001b[0;34m[\u001b[0m\u001b[0;36m1\u001b[0m\u001b[0;34m]\u001b[0m\u001b[0;34m=\u001b[0m \u001b[0;36m4\u001b[0m\u001b[0;34m\u001b[0m\u001b[0;34m\u001b[0m\u001b[0m\n\u001b[0m",
            "\u001b[0;31mTypeError\u001b[0m: 'tuple' object does not support item assignment"
          ]
        }
      ]
    },
    {
      "cell_type": "code",
      "source": [],
      "metadata": {
        "id": "5fa6tbzSMT7U"
      },
      "execution_count": null,
      "outputs": []
    },
    {
      "cell_type": "code",
      "source": [],
      "metadata": {
        "id": "CXpIGNHyMVF-"
      },
      "execution_count": null,
      "outputs": []
    },
    {
      "cell_type": "markdown",
      "source": [
        "**Arithmetic** **Operators**"
      ],
      "metadata": {
        "id": "q95i_A9mMX6y"
      }
    },
    {
      "cell_type": "code",
      "source": [
        "a = 10\n",
        "b = 5\n",
        "print(a + b)\n",
        "print(a - b)\n",
        "print(a * b)\n",
        "print(a / b)\n",
        "print(a % b)\n",
        "print(a ** b)\n",
        "print(a // b)"
      ],
      "metadata": {
        "colab": {
          "base_uri": "https://localhost:8080/"
        },
        "id": "Y3cxZtbGMVCf",
        "outputId": "181baab3-f19e-4f46-a09a-d6134ec8674f"
      },
      "execution_count": 25,
      "outputs": [
        {
          "output_type": "stream",
          "name": "stdout",
          "text": [
            "15\n",
            "5\n",
            "50\n",
            "2.0\n",
            "0\n",
            "100000\n",
            "2\n"
          ]
        }
      ]
    },
    {
      "cell_type": "markdown",
      "source": [
        "**Comparison** **Operators**"
      ],
      "metadata": {
        "id": "n4LQ3muaNb-R"
      }
    },
    {
      "cell_type": "code",
      "source": [
        "print( a == b)\n",
        "print(a != b)\n",
        "print(a > b)\n",
        "print(a < b)\n",
        "print(a >= b)\n",
        "print(a <= b)"
      ],
      "metadata": {
        "colab": {
          "base_uri": "https://localhost:8080/"
        },
        "id": "6cab4UxyMU_4",
        "outputId": "20dff84d-23d7-40de-a31b-63a73edc9509"
      },
      "execution_count": 27,
      "outputs": [
        {
          "output_type": "stream",
          "name": "stdout",
          "text": [
            "False\n",
            "True\n",
            "True\n",
            "False\n",
            "True\n",
            "False\n"
          ]
        }
      ]
    },
    {
      "cell_type": "markdown",
      "source": [
        "**Logical Operators**"
      ],
      "metadata": {
        "id": "4bSab7fVNzMV"
      }
    },
    {
      "cell_type": "code",
      "source": [
        "print( a > b and a < b)\n",
        "print( a > b or a < b)\n",
        "print(not (a > b))"
      ],
      "metadata": {
        "colab": {
          "base_uri": "https://localhost:8080/"
        },
        "id": "8fGL_F6QMU8t",
        "outputId": "a24990e2-d5e2-4d71-d937-d7e6e62bc951"
      },
      "execution_count": 28,
      "outputs": [
        {
          "output_type": "stream",
          "name": "stdout",
          "text": [
            "False\n",
            "True\n",
            "False\n"
          ]
        }
      ]
    },
    {
      "cell_type": "markdown",
      "source": [
        "**Assignment Operators**"
      ],
      "metadata": {
        "id": "Rwfpx4IBN-Fn"
      }
    },
    {
      "cell_type": "code",
      "source": [
        "x = 5\n",
        "# Addition Assignment\n",
        "x +=2\n",
        "print(x)"
      ],
      "metadata": {
        "colab": {
          "base_uri": "https://localhost:8080/"
        },
        "id": "RjPGv26bMU6G",
        "outputId": "d59edd11-fb02-423c-cdca-e0bc5e081af1"
      },
      "execution_count": 30,
      "outputs": [
        {
          "output_type": "stream",
          "name": "stdout",
          "text": [
            "7\n"
          ]
        }
      ]
    },
    {
      "cell_type": "code",
      "source": [
        "#Subtraction Assignment\n",
        "x -= 2\n",
        "print(x)"
      ],
      "metadata": {
        "colab": {
          "base_uri": "https://localhost:8080/"
        },
        "id": "RZgXpAB1OMH-",
        "outputId": "8fb20214-ce8c-4cb3-aaef-21e99434098e"
      },
      "execution_count": 31,
      "outputs": [
        {
          "output_type": "stream",
          "name": "stdout",
          "text": [
            "5\n"
          ]
        }
      ]
    },
    {
      "cell_type": "code",
      "source": [
        "# Multiplication Assignment\n",
        "x *= 2\n",
        "print(x)  # Output: 12"
      ],
      "metadata": {
        "colab": {
          "base_uri": "https://localhost:8080/"
        },
        "id": "lgeXIXuYOUr6",
        "outputId": "ff6ce465-6798-44fe-f07c-9981d7e6c373"
      },
      "execution_count": 32,
      "outputs": [
        {
          "output_type": "stream",
          "name": "stdout",
          "text": [
            "10\n"
          ]
        }
      ]
    },
    {
      "cell_type": "code",
      "source": [
        "# Division Assignment\n",
        "x /= 2\n",
        "print(x)  # Output: 6.0"
      ],
      "metadata": {
        "colab": {
          "base_uri": "https://localhost:8080/"
        },
        "id": "9G4XxTrLOYkI",
        "outputId": "61a27657-732a-4298-e949-14a3f0100255"
      },
      "execution_count": 33,
      "outputs": [
        {
          "output_type": "stream",
          "name": "stdout",
          "text": [
            "5.0\n"
          ]
        }
      ]
    },
    {
      "cell_type": "markdown",
      "source": [
        "**Bitwise Operators**"
      ],
      "metadata": {
        "id": "-OCOLjD3OcYb"
      }
    },
    {
      "cell_type": "code",
      "source": [
        "#Logical AND operator\n",
        "x = 11\n",
        "y = 5\n",
        "print(x&y)"
      ],
      "metadata": {
        "colab": {
          "base_uri": "https://localhost:8080/"
        },
        "id": "DEfEC9bEOgpF",
        "outputId": "01ac0478-4b19-4243-ce64-ee950d21f27a"
      },
      "execution_count": 35,
      "outputs": [
        {
          "output_type": "stream",
          "name": "stdout",
          "text": [
            "1\n"
          ]
        }
      ]
    },
    {
      "cell_type": "code",
      "source": [
        "#logical OR operator\n",
        "print(x | y)"
      ],
      "metadata": {
        "colab": {
          "base_uri": "https://localhost:8080/"
        },
        "id": "DjpM1gz0QG2G",
        "outputId": "29e7dd9b-bd2d-440d-c96f-e33210dd429f"
      },
      "execution_count": 36,
      "outputs": [
        {
          "output_type": "stream",
          "name": "stdout",
          "text": [
            "15\n"
          ]
        }
      ]
    },
    {
      "cell_type": "code",
      "source": [
        "#Logical XOR operator\n",
        "print(x ^ y)"
      ],
      "metadata": {
        "colab": {
          "base_uri": "https://localhost:8080/"
        },
        "id": "-v2o3BGfQeFD",
        "outputId": "70f0943e-19c5-428d-ecca-1bbecbc12eec"
      },
      "execution_count": 37,
      "outputs": [
        {
          "output_type": "stream",
          "name": "stdout",
          "text": [
            "14\n"
          ]
        }
      ]
    },
    {
      "cell_type": "code",
      "source": [
        "#Logical NOT operator\n",
        "print(~x)"
      ],
      "metadata": {
        "colab": {
          "base_uri": "https://localhost:8080/"
        },
        "id": "dycvEw2YQ_tn",
        "outputId": "b3bfff5c-0733-4b25-d19b-2dd03e636262"
      },
      "execution_count": 38,
      "outputs": [
        {
          "output_type": "stream",
          "name": "stdout",
          "text": [
            "-12\n"
          ]
        }
      ]
    },
    {
      "cell_type": "code",
      "source": [
        "#Bitwise Right shift\n",
        "print(x >> 1)"
      ],
      "metadata": {
        "colab": {
          "base_uri": "https://localhost:8080/"
        },
        "id": "_ios6MAbSklY",
        "outputId": "12b8af6b-8ca2-4004-c5ed-868063527995"
      },
      "execution_count": 39,
      "outputs": [
        {
          "output_type": "stream",
          "name": "stdout",
          "text": [
            "5\n"
          ]
        }
      ]
    },
    {
      "cell_type": "code",
      "source": [
        "#Bitwiaw Left shift\n",
        "print(x << 1)"
      ],
      "metadata": {
        "colab": {
          "base_uri": "https://localhost:8080/"
        },
        "id": "sVe3K7jXS4J2",
        "outputId": "c6f5d1d0-1c9c-4b58-842b-4bfad60a8030"
      },
      "execution_count": 40,
      "outputs": [
        {
          "output_type": "stream",
          "name": "stdout",
          "text": [
            "22\n"
          ]
        }
      ]
    },
    {
      "cell_type": "markdown",
      "source": [
        "**Implicit type casting**"
      ],
      "metadata": {
        "id": "jSwkK6-7Ta7Z"
      }
    },
    {
      "cell_type": "code",
      "source": [
        "num1 = 10\n",
        "num2 = 5.8\n",
        "num = num1 + num2\n",
        "print(type(num))"
      ],
      "metadata": {
        "colab": {
          "base_uri": "https://localhost:8080/"
        },
        "id": "vcpyeby5Td3u",
        "outputId": "fb12f7b8-4ed6-4291-f489-562624e6237d"
      },
      "execution_count": 42,
      "outputs": [
        {
          "output_type": "stream",
          "name": "stdout",
          "text": [
            "<class 'float'>\n"
          ]
        }
      ]
    },
    {
      "cell_type": "markdown",
      "source": [
        "**Explicit Type Casting**"
      ],
      "metadata": {
        "id": "Y-q0uE0nUAb7"
      }
    },
    {
      "cell_type": "code",
      "source": [
        "float_num = 10.6\n",
        "print(int(float_num))"
      ],
      "metadata": {
        "colab": {
          "base_uri": "https://localhost:8080/"
        },
        "id": "NbZJavQBUCHt",
        "outputId": "1e0e81b4-1a59-4d9c-d077-f30f786cbebc"
      },
      "execution_count": 43,
      "outputs": [
        {
          "output_type": "stream",
          "name": "stdout",
          "text": [
            "10\n"
          ]
        }
      ]
    },
    {
      "cell_type": "code",
      "source": [
        "str_num = \"4.3\"\n",
        "print(float(str_num))"
      ],
      "metadata": {
        "colab": {
          "base_uri": "https://localhost:8080/"
        },
        "id": "hEtpCIEqVEl5",
        "outputId": "f94df946-6d22-4263-8411-d614b3646757"
      },
      "execution_count": 44,
      "outputs": [
        {
          "output_type": "stream",
          "name": "stdout",
          "text": [
            "4.3\n"
          ]
        }
      ]
    },
    {
      "cell_type": "markdown",
      "source": [
        "**Conditional statements**"
      ],
      "metadata": {
        "id": "OJe3CLDUVkwa"
      }
    },
    {
      "cell_type": "code",
      "source": [
        "# If statement\n",
        "x = 5\n",
        "if x > 10:\n",
        "    print(\"x is greater than 10\")\n",
        "else:\n",
        "    print(\"x is less than or equal to 10\")\n"
      ],
      "metadata": {
        "colab": {
          "base_uri": "https://localhost:8080/"
        },
        "id": "aq8yBJXEVmVm",
        "outputId": "5331fea5-b393-455a-f3eb-7cc764319749"
      },
      "execution_count": 45,
      "outputs": [
        {
          "output_type": "stream",
          "name": "stdout",
          "text": [
            "x is less than or equal to 10\n"
          ]
        }
      ]
    },
    {
      "cell_type": "code",
      "source": [
        "# If-else statement\n",
        "age = 25\n",
        "if age >= 18:\n",
        "    print(\"You are an adult\")\n",
        "else:\n",
        "    print(\"You are a minor\")"
      ],
      "metadata": {
        "colab": {
          "base_uri": "https://localhost:8080/"
        },
        "id": "kMxZEFPCVqsN",
        "outputId": "b168663b-dcb6-41e9-fabc-d68099cb760c"
      },
      "execution_count": 46,
      "outputs": [
        {
          "output_type": "stream",
          "name": "stdout",
          "text": [
            "You are an adult\n"
          ]
        }
      ]
    },
    {
      "cell_type": "code",
      "source": [
        "# If-elif-else statement\n",
        "grade = 85\n",
        "if grade >= 90:\n",
        "    print(\"A grade\")\n",
        "elif grade >= 80:\n",
        "    print(\"B grade\")\n",
        "elif grade >= 70:\n",
        "    print(\"C grade\")\n",
        "else:\n",
        "    print(\"F grade\")"
      ],
      "metadata": {
        "colab": {
          "base_uri": "https://localhost:8080/"
        },
        "id": "J8p_s84eVuw8",
        "outputId": "916cc4f1-62c4-4f27-b8a7-d2a284cc7129"
      },
      "execution_count": 47,
      "outputs": [
        {
          "output_type": "stream",
          "name": "stdout",
          "text": [
            "B grade\n"
          ]
        }
      ]
    },
    {
      "cell_type": "code",
      "source": [
        "# Nested if statements\n",
        "x = 5\n",
        "y = 10\n",
        "if x > 0:\n",
        "    if y > 5:\n",
        "        print(\"Both x and y are positive and y is greater than 5\")\n",
        "    else:\n",
        "\t    print(\"x is positive but y is not greater than 5\")\n",
        "else:\n",
        "    print(\"x is not positive\")\n"
      ],
      "metadata": {
        "colab": {
          "base_uri": "https://localhost:8080/"
        },
        "id": "Zt__r-r9V0Q6",
        "outputId": "f553de4f-b887-4935-e0ea-532a73152eaf"
      },
      "execution_count": 49,
      "outputs": [
        {
          "output_type": "stream",
          "name": "stdout",
          "text": [
            "Both x and y are positive and y is greater than 5\n"
          ]
        }
      ]
    },
    {
      "cell_type": "markdown",
      "source": [
        "**Different types of loops in Python**"
      ],
      "metadata": {
        "id": "1wzJa5s5WBlP"
      }
    },
    {
      "cell_type": "code",
      "source": [
        "# For loop example\n",
        "fruits = [\"apple\", \"banana\", \"cherry\"]\n",
        "for fruit in fruits:\n",
        "    print(fruit)"
      ],
      "metadata": {
        "colab": {
          "base_uri": "https://localhost:8080/"
        },
        "id": "EGdzK4bJWD9h",
        "outputId": "220dc245-0edc-4d06-f2bf-db0a3cb1a489"
      },
      "execution_count": 50,
      "outputs": [
        {
          "output_type": "stream",
          "name": "stdout",
          "text": [
            "apple\n",
            "banana\n",
            "cherry\n"
          ]
        }
      ]
    },
    {
      "cell_type": "code",
      "source": [
        "# While loop example\n",
        "i = 0\n",
        "while i < 5:\n",
        "    print(i)\n",
        "    i += 1"
      ],
      "metadata": {
        "colab": {
          "base_uri": "https://localhost:8080/"
        },
        "id": "FxKwnIyWWIQu",
        "outputId": "5ad8d7dd-477e-4dda-8415-4f847b1e09df"
      },
      "execution_count": 51,
      "outputs": [
        {
          "output_type": "stream",
          "name": "stdout",
          "text": [
            "0\n",
            "1\n",
            "2\n",
            "3\n",
            "4\n"
          ]
        }
      ]
    },
    {
      "cell_type": "code",
      "source": [
        "# Nested loop example\n",
        "colors = [\"red\", \"green\", \"blue\"]\n",
        "shapes = [\"circle\", \"square\", \"triangle\"]\n",
        "for color in colors:\n",
        "    for shape in shapes:\n",
        "        print(f\"{color} {shape}\")"
      ],
      "metadata": {
        "colab": {
          "base_uri": "https://localhost:8080/"
        },
        "id": "CfK_mbuhWQHK",
        "outputId": "074f4840-b0b3-47bb-df4d-4da22a51a22c"
      },
      "execution_count": 52,
      "outputs": [
        {
          "output_type": "stream",
          "name": "stdout",
          "text": [
            "red circle\n",
            "red square\n",
            "red triangle\n",
            "green circle\n",
            "green square\n",
            "green triangle\n",
            "blue circle\n",
            "blue square\n",
            "blue triangle\n"
          ]
        }
      ]
    },
    {
      "cell_type": "code",
      "source": [
        "#Loop Control Statements\n",
        "# Break statement example\n",
        "for i in range(5):\n",
        "    if i == 3:\n",
        "        break\n",
        "    print(i)"
      ],
      "metadata": {
        "colab": {
          "base_uri": "https://localhost:8080/"
        },
        "id": "O4HQWzxFWXBc",
        "outputId": "aa844770-b029-494e-8797-0d15dfc16097"
      },
      "execution_count": 53,
      "outputs": [
        {
          "output_type": "stream",
          "name": "stdout",
          "text": [
            "0\n",
            "1\n",
            "2\n"
          ]
        }
      ]
    },
    {
      "cell_type": "code",
      "source": [
        "# Continue statement example\n",
        "for i in range(5):\n",
        "    if i == 3:\n",
        "        continue\n",
        "    print(i)"
      ],
      "metadata": {
        "colab": {
          "base_uri": "https://localhost:8080/"
        },
        "id": "vo3pBaGeWjY5",
        "outputId": "ccbf7913-eb68-4cd2-ca87-817d73577544"
      },
      "execution_count": 54,
      "outputs": [
        {
          "output_type": "stream",
          "name": "stdout",
          "text": [
            "0\n",
            "1\n",
            "2\n",
            "4\n"
          ]
        }
      ]
    },
    {
      "cell_type": "code",
      "source": [
        "# Pass statement example\n",
        "for i in range(5):\n",
        "    pass\n",
        "    print(i)"
      ],
      "metadata": {
        "colab": {
          "base_uri": "https://localhost:8080/"
        },
        "id": "vWmU_3SbWpI_",
        "outputId": "003b3033-3fc7-4d47-ec89-0c5de2bd1167"
      },
      "execution_count": 55,
      "outputs": [
        {
          "output_type": "stream",
          "name": "stdout",
          "text": [
            "0\n",
            "1\n",
            "2\n",
            "3\n",
            "4\n"
          ]
        }
      ]
    }
  ]
}